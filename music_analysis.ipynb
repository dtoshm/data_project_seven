{
 "cells": [
  {
   "cell_type": "markdown",
   "metadata": {},
   "source": [
    "# Music Analysis"
   ]
  },
  {
   "cell_type": "markdown",
   "metadata": {},
   "source": [
    "Import Pandas, Seaborn, Matplotlib"
   ]
  },
  {
   "cell_type": "code",
   "execution_count": 1063,
   "metadata": {},
   "outputs": [],
   "source": [
    "import pandas as pd\n",
    "import seaborn as sns\n",
    "import matplotlib.pyplot as plt\n",
    "sns.set_theme()"
   ]
  },
  {
   "cell_type": "markdown",
   "metadata": {},
   "source": [
    "## Question 1\n",
    "Combine all of the CSV files into a single dataset using Pandas. It should be held in a variable called \"all_top_songs\"."
   ]
  },
  {
   "cell_type": "markdown",
   "metadata": {},
   "source": [
    "### Strategy\n",
    "- Import all 10 csv files\n",
    "- Concatenate them into a single csv file\n",
    "- Reset the index\n",
    "- Use a loop to avoid repetition"
   ]
  },
  {
   "cell_type": "code",
   "execution_count": 1064,
   "metadata": {},
   "outputs": [],
   "source": [
    "all_top_songs = pd.concat([pd.read_csv(f\"data/{year}.csv\") for year in range(2010, 2020)], ignore_index=True)"
   ]
  },
  {
   "cell_type": "markdown",
   "metadata": {},
   "source": [
    "## Question 2\n",
    "Clean the dataset to make sure the following columns are either integer or floats and not objects:\n",
    "- id\n",
    "- year\n",
    "- bpm\n",
    "- nrgy\n",
    "- dnce\n",
    "- db\n",
    "- live\n",
    "- val\n",
    "- dur\n",
    "- acous\n",
    "- spch\n",
    "- pop"
   ]
  },
  {
   "cell_type": "code",
   "execution_count": 1065,
   "metadata": {},
   "outputs": [
    {
     "name": "stdout",
     "output_type": "stream",
     "text": [
      "<class 'pandas.core.frame.DataFrame'>\n",
      "RangeIndex: 603 entries, 0 to 602\n",
      "Data columns (total 15 columns):\n",
      " #   Column      Non-Null Count  Dtype \n",
      "---  ------      --------------  ----- \n",
      " 0   Unnamed: 0  603 non-null    int64 \n",
      " 1   title       603 non-null    object\n",
      " 2   artist      603 non-null    object\n",
      " 3   top genre   603 non-null    object\n",
      " 4   year        603 non-null    int64 \n",
      " 5   bpm         603 non-null    int64 \n",
      " 6   nrgy        603 non-null    int64 \n",
      " 7   dnce        603 non-null    int64 \n",
      " 8   dB          603 non-null    int64 \n",
      " 9   live        603 non-null    int64 \n",
      " 10  val         603 non-null    int64 \n",
      " 11  dur         603 non-null    int64 \n",
      " 12  acous       603 non-null    int64 \n",
      " 13  spch        603 non-null    int64 \n",
      " 14  pop         603 non-null    int64 \n",
      "dtypes: int64(12), object(3)\n",
      "memory usage: 70.8+ KB\n"
     ]
    }
   ],
   "source": [
    "all_top_songs.info()"
   ]
  },
  {
   "cell_type": "markdown",
   "metadata": {},
   "source": [
    "Note: Use Pandas, Matplotlib, and/or Seaborn to answer the questions below."
   ]
  },
  {
   "cell_type": "markdown",
   "metadata": {},
   "source": [
    "## Question 3\n",
    "What is the most popular song in the dataset?"
   ]
  },
  {
   "cell_type": "markdown",
   "metadata": {},
   "source": [
    "### Strategy:\n",
    "\n",
    "- Sort 'all_top_songs' by the 'pop' column \n",
    "- Order the results descending\n",
    "- Select position 0 for the most popular"
   ]
  },
  {
   "cell_type": "code",
   "execution_count": 1066,
   "metadata": {},
   "outputs": [
    {
     "name": "stdout",
     "output_type": "stream",
     "text": [
      "Answer:\n",
      "The most popular song in the data set is Memories by Maroon 5.\n"
     ]
    }
   ],
   "source": [
    "# Calculation\n",
    "most_popular = all_top_songs.sort_values(by='pop', ascending=False).iloc[0]\n",
    "\n",
    "# Answer\n",
    "print(f\"Answer:\\nThe most popular song in the data set is {most_popular['title']} by {most_popular['artist']}.\")"
   ]
  },
  {
   "cell_type": "markdown",
   "metadata": {},
   "source": [
    "## Question 4\n",
    "What artist has the most songs in the dataset?"
   ]
  },
  {
   "cell_type": "markdown",
   "metadata": {},
   "source": [
    "### Strategy:\n",
    "- Calculate the count of songs per artist in descending order.\n",
    "- Make a list identifying artist(s) with the most songs.\n",
    "- Determine the number of songs for the top artist(s)\n",
    "- Check for ties.\n"
   ]
  },
  {
   "cell_type": "code",
   "execution_count": 1067,
   "metadata": {},
   "outputs": [
    {
     "name": "stdout",
     "output_type": "stream",
     "text": [
      "Answer:\n",
      "The artist with the most songs is Katy Perry.\n"
     ]
    }
   ],
   "source": [
    "# Calculation\n",
    "artist_counts = all_top_songs['artist'].value_counts()\n",
    "top_artists = artist_counts.head(1).index.tolist()\n",
    "\n",
    "# Answer\n",
    "if len(top_artists) > 1:\n",
    "    print(f\"Answer:\\nThe artists with the most songs are: {', '.join(top_artists)}.\")\n",
    "else:\n",
    "    print(f\"Answer:\\nThe artist with the most songs is {top_artists[0]}.\")"
   ]
  },
  {
   "cell_type": "markdown",
   "metadata": {},
   "source": [
    "## Question 5\n",
    "What is the most popular genre of music in the dataset?"
   ]
  },
  {
   "cell_type": "markdown",
   "metadata": {},
   "source": [
    "### Strategy:\n",
    "- Calculate the count of songs per genre in descending order.\n",
    "- Make a list identifying genre(s) with the most songs.\n",
    "- Determine the number of songs for the top genre(s)\n",
    "- Check for ties.\n"
   ]
  },
  {
   "cell_type": "code",
   "execution_count": 1068,
   "metadata": {},
   "outputs": [
    {
     "name": "stdout",
     "output_type": "stream",
     "text": [
      "Answer:\n",
      "The most popular genre is dance pop.\n"
     ]
    }
   ],
   "source": [
    "# Calculation\n",
    "genre_counts = all_top_songs['top genre'].value_counts()\n",
    "top_genre = genre_counts.head(1).index.tolist()\n",
    "\n",
    "# Answer\n",
    "if len(top_artists) > 1:\n",
    "    print(f\"Answer:\\nThe most popular genres are: {', '.join(top_genre)}\")\n",
    "else:\n",
    "    print(f\"Answer:\\nThe most popular genre is {top_genre[0]}.\")"
   ]
  },
  {
   "cell_type": "markdown",
   "metadata": {},
   "source": [
    "## Question 6\n",
    "Are there any songs in the dataset more than once?"
   ]
  },
  {
   "cell_type": "markdown",
   "metadata": {},
   "source": [
    "### Strategy\n",
    "- Check for the count of all unique songs in the 'title' column.\n",
    "- Check for duplicates.\n"
   ]
  },
  {
   "cell_type": "code",
   "execution_count": 1069,
   "metadata": {},
   "outputs": [
    {
     "name": "stdout",
     "output_type": "stream",
     "text": [
      "Answer:\n",
      "19 songs appearing more than once:\n",
      "A Little Party Never Killed Nobody (All We Got): 2 appearances.\n",
      "All I Ask: 2 appearances.\n",
      "Kissing Strangers: 2 appearances.\n",
      "Written in the Stars (feat. Eric Turner): 2 appearances.\n",
      "The Hills: 2 appearances.\n",
      "Love Yourself: 2 appearances.\n",
      "We Are Never Ever Getting Back Together: 2 appearances.\n",
      "Sugar: 2 appearances.\n",
      "Say Something: 2 appearances.\n",
      "First Time: 2 appearances.\n",
      "Stitches: 2 appearances.\n",
      "I Like It: 2 appearances.\n",
      "Hello: 2 appearances.\n",
      "Castle Walls (feat. Christina Aguilera): 2 appearances.\n",
      "Company: 2 appearances.\n",
      "Runnin' (Lose It All): 2 appearances.\n",
      "Marry You: 2 appearances.\n",
      "Just the Way You Are: 2 appearances.\n",
      "Here: 2 appearances.\n"
     ]
    }
   ],
   "source": [
    "# Calculation\n",
    "song_counts = all_top_songs['title'].value_counts()\n",
    "duplicates = song_counts[song_counts > 1]\n",
    "\n",
    "# Answer\n",
    "print(f\"Answer:\\n{len(duplicates)} songs appearing more than once:\")\n",
    "for title, count in duplicates.items():\n",
    "    print(f\"{title}: {count} appearances.\")"
   ]
  },
  {
   "cell_type": "markdown",
   "metadata": {},
   "source": [
    "## Question 7\n",
    "Is there a relationship between popularity and danceability?"
   ]
  },
  {
   "cell_type": "markdown",
   "metadata": {},
   "source": [
    "### Strategy:\n",
    "- Create a scatterplot.\n",
    "- Use a regression line.\n",
    "- Calculate the correlation coefficient.\n",
    "- Show the plot and coefficient."
   ]
  },
  {
   "cell_type": "code",
   "execution_count": 1070,
   "metadata": {},
   "outputs": [
    {
     "data": {
      "image/png": "[encoded data removed]",
      "text/plain": [
       "<Figure size 640x480 with 1 Axes>"
      ]
     },
     "metadata": {},
     "output_type": "display_data"
    },
    {
     "name": "stdout",
     "output_type": "stream",
     "text": [
      "Answer:\n",
      "Popularity and Danceability have a very weak positive linear correlation of 0.12.\n",
      "This suggests that as one increases the other does slightly, but it is not strong \n",
      "enough to be a meaningful conclusion.\n"
     ]
    }
   ],
   "source": [
    "# Calculation\n",
    "sns.scatterplot(x='pop', y='dnce', data=all_top_songs, color='#77AA77')\n",
    "sns.regplot(x='pop', y='dnce', data=all_top_songs, color='#1E90FF', scatter=False)\n",
    "correlation = all_top_songs['pop'].corr(all_top_songs['dnce'])\n",
    "\n",
    "# Plot\n",
    "plt.title(\"Relationship between Popularity and Danceability\", fontsize=16)\n",
    "plt.xlabel('Popularity', fontsize=12)\n",
    "plt.ylabel('Danceability', fontsize=12)\n",
    "plt.show()\n",
    "\n",
    "#Answer\n",
    "print(f\"Answer:\\nPopularity and Danceability have a very weak positive linear correlation of {correlation:.2f}.\")\n",
    "print(\"This suggests that as one increases the other does slightly, but it is not strong \\nenough to be a meaningful conclusion.\")"
   ]
  },
  {
   "cell_type": "markdown",
   "metadata": {},
   "source": [
    "## Question 8\n",
    "Does having a higher bpm lead to having a higher energy score?"
   ]
  },
  {
   "cell_type": "markdown",
   "metadata": {},
   "source": [
    "### Strategy:\n",
    "- Create a scatterplot.\n",
    "- Use a regression line.\n",
    "- Calculate the correlation coefficient.\n",
    "- Show the plot and coefficient."
   ]
  },
  {
   "cell_type": "code",
   "execution_count": 1071,
   "metadata": {},
   "outputs": [
    {
     "data": {
      "image/png": "[encoded data removed]",
      "text/plain": [
       "<Figure size 640x480 with 1 Axes>"
      ]
     },
     "metadata": {},
     "output_type": "display_data"
    },
    {
     "name": "stdout",
     "output_type": "stream",
     "text": [
      "Answer:\n",
      "BPM and Energy Score have a very weak positive linear correlation of 0.13.\n",
      "This suggests that as one increases the other does slightly, but it is not strong \n",
      "enough to be a meaningful conclusion. However nonlinear analysis is waranteed.\n"
     ]
    }
   ],
   "source": [
    "# Calculation\n",
    "sns.scatterplot(x='bpm', y='nrgy', data=all_top_songs, color='#77AA77')\n",
    "sns.regplot(x='bpm', y='nrgy', data=all_top_songs, color='#1E90FF', scatter=False)\n",
    "correlation = all_top_songs['bpm'].corr(all_top_songs['nrgy'])\n",
    "\n",
    "# Plot\n",
    "plt.title(\"Relationship between BPM and Energy Score\", fontsize=16)\n",
    "plt.xlabel('BPM', fontsize=12)\n",
    "plt.ylabel('Energy Score', fontsize=12)\n",
    "plt.show()\n",
    "\n",
    "# Answer\n",
    "print(f\"Answer:\\nBPM and Energy Score have a very weak positive linear correlation of {correlation:.2f}.\")\n",
    "print(\"This suggests that as one increases the other does slightly, but it is not strong \\nenough to be a meaningful conclusion. However nonlinear analysis is waranteed.\")"
   ]
  },
  {
   "cell_type": "markdown",
   "metadata": {},
   "source": [
    "## Question 9\n",
    "Which genre has the highest energy score?"
   ]
  },
  {
   "cell_type": "markdown",
   "metadata": {},
   "source": [
    "### Strategy:\n",
    "- Group the genres and calculate the mean energy score for eac in descending order.\n",
    "- Identify the maximum score.\n",
    "- Check for ties."
   ]
  },
  {
   "cell_type": "code",
   "execution_count": 1072,
   "metadata": {},
   "outputs": [
    {
     "name": "stdout",
     "output_type": "stream",
     "text": [
      "Answer:\n",
      "The genre with the highest average energy score is french indie pop with an average energy score of 89.00\n"
     ]
    }
   ],
   "source": [
    "# Calculations\n",
    "genres_energy = all_top_songs.groupby('top genre')['nrgy'].mean().sort_values(ascending=False)\n",
    "highest_energy_value = genres_energy.max()\n",
    "highest_energy_genres = genres_energy[genres_energy == highest_energy_value].index.tolist()\n",
    "\n",
    "# Answer\n",
    "if len(highest_energy_genres) > 1:\n",
    "    print(f\"The genres with the highest average energy score are {', '.join(highest_energy_genres)} with an average energy score of {highest_energy_value:.2f}\")\n",
    "else:\n",
    "    print(f\"Answer:\\nThe genre with the highest average energy score is {highest_energy_genres[0]} with an average energy score of {highest_energy_value:.2f}\")"
   ]
  },
  {
   "cell_type": "markdown",
   "metadata": {},
   "source": [
    "## Extra Credit Question 1\n",
    "Export the combined dataset into a CSV called 'top_spotify_songs.csv'."
   ]
  },
  {
   "cell_type": "code",
   "execution_count": 1073,
   "metadata": {},
   "outputs": [],
   "source": [
    "all_top_songs.to_csv('data/top_spotify_songs.csv', index=False)"
   ]
  },
  {
   "cell_type": "markdown",
   "metadata": {},
   "source": [
    "## Extra Credit Question 2\n",
    "What percentage of songs may have been recorded live? (Consider anything above 50 in the live column to be recorded live)"
   ]
  },
  {
   "cell_type": "markdown",
   "metadata": {},
   "source": [
    "### Strategy:\n",
    "- Create a new column to group the songs into two groups using the 'live' column (over and blelow 50).\n",
    "- Calculate the count for each group.\n",
    "- Calculate the rounded percentages."
   ]
  },
  {
   "cell_type": "code",
   "execution_count": 1074,
   "metadata": {},
   "outputs": [
    {
     "name": "stdout",
     "output_type": "stream",
     "text": [
      "Answer:\n",
      "3% of the songs may have been recorded live.\n"
     ]
    }
   ],
   "source": [
    "# Calculations\n",
    "all_top_songs['is_live'] = all_top_songs['live'].apply(lambda x: 'Likely Live' if x > 50 else 'Not Likely Live')\n",
    "live_counts = all_top_songs['is_live'].value_counts()\n",
    "total_songs = len(all_top_songs)\n",
    "live_percentages = (live_counts / total_songs * 100).round()\n",
    "\n",
    "# Answer\n",
    "print(f\"Answer:\\n{int(live_percentages.iloc[1])}% of the songs may have been recorded live.\")"
   ]
  },
  {
   "cell_type": "markdown",
   "metadata": {},
   "source": [
    "## Extra Credit Question 3\n",
    "What percentage of songs were acoustic? (Consider anything above 50 in the acoustic column to be acoustic)"
   ]
  },
  {
   "cell_type": "markdown",
   "metadata": {},
   "source": [
    "### Strategy\n",
    "- "
   ]
  },
  {
   "cell_type": "code",
   "execution_count": 1075,
   "metadata": {},
   "outputs": [
    {
     "data": {
      "text/html": [
       "<div>\n",
       "<style scoped>\n",
       "    .dataframe tbody tr th:only-of-type {\n",
       "        vertical-align: middle;\n",
       "    }\n",
       "\n",
       "    .dataframe tbody tr th {\n",
       "        vertical-align: top;\n",
       "    }\n",
       "\n",
       "    .dataframe thead th {\n",
       "        text-align: right;\n",
       "    }\n",
       "</style>\n",
       "<table border=\"1\" class=\"dataframe\">\n",
       "  <thead>\n",
       "    <tr style=\"text-align: right;\">\n",
       "      <th></th>\n",
       "      <th>Unnamed: 0</th>\n",
       "      <th>title</th>\n",
       "      <th>artist</th>\n",
       "      <th>top genre</th>\n",
       "      <th>year</th>\n",
       "      <th>bpm</th>\n",
       "      <th>nrgy</th>\n",
       "      <th>dnce</th>\n",
       "      <th>dB</th>\n",
       "      <th>live</th>\n",
       "      <th>val</th>\n",
       "      <th>dur</th>\n",
       "      <th>acous</th>\n",
       "      <th>spch</th>\n",
       "      <th>pop</th>\n",
       "      <th>is_live</th>\n",
       "    </tr>\n",
       "  </thead>\n",
       "  <tbody>\n",
       "    <tr>\n",
       "      <th>0</th>\n",
       "      <td>1</td>\n",
       "      <td>Hey, Soul Sister</td>\n",
       "      <td>Train</td>\n",
       "      <td>neo mellow</td>\n",
       "      <td>2010</td>\n",
       "      <td>97</td>\n",
       "      <td>89</td>\n",
       "      <td>67</td>\n",
       "      <td>-4</td>\n",
       "      <td>8</td>\n",
       "      <td>80</td>\n",
       "      <td>217</td>\n",
       "      <td>19</td>\n",
       "      <td>4</td>\n",
       "      <td>83</td>\n",
       "      <td>Not Likely Live</td>\n",
       "    </tr>\n",
       "    <tr>\n",
       "      <th>1</th>\n",
       "      <td>2</td>\n",
       "      <td>Love The Way You Lie</td>\n",
       "      <td>Eminem</td>\n",
       "      <td>detroit hip hop</td>\n",
       "      <td>2010</td>\n",
       "      <td>87</td>\n",
       "      <td>93</td>\n",
       "      <td>75</td>\n",
       "      <td>-5</td>\n",
       "      <td>52</td>\n",
       "      <td>64</td>\n",
       "      <td>263</td>\n",
       "      <td>24</td>\n",
       "      <td>23</td>\n",
       "      <td>82</td>\n",
       "      <td>Likely Live</td>\n",
       "    </tr>\n",
       "    <tr>\n",
       "      <th>2</th>\n",
       "      <td>3</td>\n",
       "      <td>TiK ToK</td>\n",
       "      <td>Kesha</td>\n",
       "      <td>dance pop</td>\n",
       "      <td>2010</td>\n",
       "      <td>120</td>\n",
       "      <td>84</td>\n",
       "      <td>76</td>\n",
       "      <td>-3</td>\n",
       "      <td>29</td>\n",
       "      <td>71</td>\n",
       "      <td>200</td>\n",
       "      <td>10</td>\n",
       "      <td>14</td>\n",
       "      <td>80</td>\n",
       "      <td>Not Likely Live</td>\n",
       "    </tr>\n",
       "    <tr>\n",
       "      <th>3</th>\n",
       "      <td>4</td>\n",
       "      <td>Bad Romance</td>\n",
       "      <td>Lady Gaga</td>\n",
       "      <td>dance pop</td>\n",
       "      <td>2010</td>\n",
       "      <td>119</td>\n",
       "      <td>92</td>\n",
       "      <td>70</td>\n",
       "      <td>-4</td>\n",
       "      <td>8</td>\n",
       "      <td>71</td>\n",
       "      <td>295</td>\n",
       "      <td>0</td>\n",
       "      <td>4</td>\n",
       "      <td>79</td>\n",
       "      <td>Not Likely Live</td>\n",
       "    </tr>\n",
       "    <tr>\n",
       "      <th>4</th>\n",
       "      <td>5</td>\n",
       "      <td>Just the Way You Are</td>\n",
       "      <td>Bruno Mars</td>\n",
       "      <td>pop</td>\n",
       "      <td>2010</td>\n",
       "      <td>109</td>\n",
       "      <td>84</td>\n",
       "      <td>64</td>\n",
       "      <td>-5</td>\n",
       "      <td>9</td>\n",
       "      <td>43</td>\n",
       "      <td>221</td>\n",
       "      <td>2</td>\n",
       "      <td>4</td>\n",
       "      <td>78</td>\n",
       "      <td>Not Likely Live</td>\n",
       "    </tr>\n",
       "  </tbody>\n",
       "</table>\n",
       "</div>"
      ],
      "text/plain": [
       "   Unnamed: 0                 title      artist        top genre  year  bpm  \\\n",
       "0           1      Hey, Soul Sister       Train       neo mellow  2010   97   \n",
       "1           2  Love The Way You Lie      Eminem  detroit hip hop  2010   87   \n",
       "2           3               TiK ToK       Kesha        dance pop  2010  120   \n",
       "3           4           Bad Romance   Lady Gaga        dance pop  2010  119   \n",
       "4           5  Just the Way You Are  Bruno Mars              pop  2010  109   \n",
       "\n",
       "   nrgy  dnce  dB  live  val  dur  acous  spch  pop          is_live  \n",
       "0    89    67  -4     8   80  217     19     4   83  Not Likely Live  \n",
       "1    93    75  -5    52   64  263     24    23   82      Likely Live  \n",
       "2    84    76  -3    29   71  200     10    14   80  Not Likely Live  \n",
       "3    92    70  -4     8   71  295      0     4   79  Not Likely Live  \n",
       "4    84    64  -5     9   43  221      2     4   78  Not Likely Live  "
      ]
     },
     "execution_count": 1075,
     "metadata": {},
     "output_type": "execute_result"
    }
   ],
   "source": [
    "all_top_songs.head()"
   ]
  },
  {
   "cell_type": "code",
   "execution_count": null,
   "metadata": {},
   "outputs": [
    {
     "name": "stdout",
     "output_type": "stream",
     "text": [
      "Answer:\n",
      "7% of the songs may have been recorded live.\n"
     ]
    }
   ],
   "source": [
    "# Calculations\n",
    "all_top_songs['is_acoustic'] = all_top_songs['acous'].apply(lambda x: 'Likely Acoustic' if x > 50 else 'Not Likely Acoustic')\n",
    "acoustic_counts = all_top_songs['is_acoustic'].value_counts()\n",
    "total_songs = len(all_top_songs)\n",
    "acoustic_percentages = (acoustic_counts / total_songs * 100).round()\n",
    "\n",
    "# Answer\n",
    "print(f\"Answer:\\n{int(acoustic_percentages.iloc[1])}% of the songs were accoustic.\")"
   ]
  }
 ],
 "metadata": {
  "kernelspec": {
   "display_name": "base",
   "language": "python",
   "name": "python3"
  },
  "language_info": {
   "codemirror_mode": {
    "name": "ipython",
    "version": 3
   },
   "file_extension": ".py",
   "mimetype": "text/x-python",
   "name": "python",
   "nbconvert_exporter": "python",
   "pygments_lexer": "ipython3",
   "version": "3.12.9"
  }
 },
 "nbformat": 4,
 "nbformat_minor": 2
}
