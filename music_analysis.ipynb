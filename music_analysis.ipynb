{
 "cells": [
  {
   "cell_type": "markdown",
   "metadata": {},
   "source": [
    "# Music Analysis"
   ]
  },
  {
   "cell_type": "markdown",
   "metadata": {},
   "source": [
    "Import Pandas, Seaborn, Matplotlib"
   ]
  },
  {
   "cell_type": "code",
   "execution_count": 687,
   "metadata": {},
   "outputs": [],
   "source": [
    "import pandas as pd\n",
    "import seaborn as sns\n",
    "import matplotlib.pyplot as plt\n",
    "sns.set_theme()"
   ]
  },
  {
   "cell_type": "markdown",
   "metadata": {},
   "source": [
    "## 1. Combine all of the CSV files into a single dataset using Pandas. It should be held in a variable called \"all_top_songs\"."
   ]
  },
  {
   "cell_type": "markdown",
   "metadata": {},
   "source": [
    "### Strategy\n",
    "- Import all 10 csv files\n",
    "- Concatenate them into a single csv file\n",
    "- Reset the index\n",
    "- Use a loop to avoid repetition"
   ]
  },
  {
   "cell_type": "code",
   "execution_count": 688,
   "metadata": {},
   "outputs": [],
   "source": [
    "all_top_songs = pd.concat([pd.read_csv(f\"data/{year}.csv\") for year in range(2010, 2020)], ignore_index=True)"
   ]
  },
  {
   "cell_type": "markdown",
   "metadata": {},
   "source": [
    "## 2. Clean the dataset to make sure the following columns are either integer or floats and not objects:\n",
    "- id\n",
    "- year\n",
    "- bpm\n",
    "- nrgy\n",
    "- dnce\n",
    "- db\n",
    "- live\n",
    "- val\n",
    "- dur\n",
    "- acous\n",
    "- spch\n",
    "- pop"
   ]
  },
  {
   "cell_type": "code",
   "execution_count": 689,
   "metadata": {},
   "outputs": [
    {
     "name": "stdout",
     "output_type": "stream",
     "text": [
      "<class 'pandas.core.frame.DataFrame'>\n",
      "RangeIndex: 603 entries, 0 to 602\n",
      "Data columns (total 15 columns):\n",
      " #   Column      Non-Null Count  Dtype \n",
      "---  ------      --------------  ----- \n",
      " 0   Unnamed: 0  603 non-null    int64 \n",
      " 1   title       603 non-null    object\n",
      " 2   artist      603 non-null    object\n",
      " 3   top genre   603 non-null    object\n",
      " 4   year        603 non-null    int64 \n",
      " 5   bpm         603 non-null    int64 \n",
      " 6   nrgy        603 non-null    int64 \n",
      " 7   dnce        603 non-null    int64 \n",
      " 8   dB          603 non-null    int64 \n",
      " 9   live        603 non-null    int64 \n",
      " 10  val         603 non-null    int64 \n",
      " 11  dur         603 non-null    int64 \n",
      " 12  acous       603 non-null    int64 \n",
      " 13  spch        603 non-null    int64 \n",
      " 14  pop         603 non-null    int64 \n",
      "dtypes: int64(12), object(3)\n",
      "memory usage: 70.8+ KB\n"
     ]
    }
   ],
   "source": [
    "all_top_songs.info()"
   ]
  },
  {
   "cell_type": "markdown",
   "metadata": {},
   "source": [
    "Note: Use Pandas, Matplotlib, and/or Seaborn to answer the questions below."
   ]
  },
  {
   "cell_type": "markdown",
   "metadata": {},
   "source": [
    "## 3. What is the most popular song in the dataset?"
   ]
  },
  {
   "cell_type": "markdown",
   "metadata": {},
   "source": [
    "### Strategy:\n",
    "\n",
    "- Sort 'all_top_songs' by the 'pop' column \n",
    "- Order the results descending\n",
    "- Select position 0 for the most popular"
   ]
  },
  {
   "cell_type": "code",
   "execution_count": 690,
   "metadata": {},
   "outputs": [
    {
     "name": "stdout",
     "output_type": "stream",
     "text": [
      "Answer:\n",
      "The most popular song in the data set is Memories by Maroon 5.\n"
     ]
    }
   ],
   "source": [
    "# Calculation\n",
    "most_popular = all_top_songs.sort_values(by='pop', ascending=False).iloc[0]\n",
    "\n",
    "# Answer\n",
    "print(f\"Answer:\\nThe most popular song in the data set is {most_popular['title']} by {most_popular['artist']}.\")"
   ]
  },
  {
   "cell_type": "markdown",
   "metadata": {},
   "source": [
    "## 4. What artist has the most songs in the dataset?"
   ]
  },
  {
   "cell_type": "markdown",
   "metadata": {},
   "source": [
    "### Strategy:\n",
    "- Calculate the count of songs per artist in descending order.\n",
    "- Make a list identifying artist(s) with the most songs.\n",
    "- Determine the number of songs for the top artist(s)\n",
    "- Check for ties.\n"
   ]
  },
  {
   "cell_type": "code",
   "execution_count": 691,
   "metadata": {},
   "outputs": [
    {
     "name": "stdout",
     "output_type": "stream",
     "text": [
      "Answer:\n",
      "The artist with the most songs is Katy Perry.\n"
     ]
    }
   ],
   "source": [
    "# Calculation\n",
    "artist_counts = all_top_songs['artist'].value_counts()\n",
    "top_artists = artist_counts.head(1).index.tolist()\n",
    "\n",
    "# Answer\n",
    "if len(top_artists) > 1:\n",
    "    print(f\"Answer:\\nThe artists with the most songs are: {', '.join(top_artists)}.\")\n",
    "else:\n",
    "    print(f\"Answer:\\nThe artist with the most songs is {top_artists[0]}.\")"
   ]
  },
  {
   "cell_type": "markdown",
   "metadata": {},
   "source": [
    "## 5. What is the most popular genre of music in the dataset?"
   ]
  },
  {
   "cell_type": "markdown",
   "metadata": {},
   "source": [
    "### Strategy:\n",
    "- Calculate the count of songs per genre in descending order.\n",
    "- Make a list identifying genre(s) with the most songs.\n",
    "- Determine the number of songs for the top genre(s)\n",
    "- Check for ties.\n"
   ]
  },
  {
   "cell_type": "code",
   "execution_count": 692,
   "metadata": {},
   "outputs": [
    {
     "name": "stdout",
     "output_type": "stream",
     "text": [
      "Answer:\n",
      "The most popular genre is dance pop.\n"
     ]
    }
   ],
   "source": [
    "# Calculation\n",
    "genre_counts = all_top_songs['top genre'].value_counts()\n",
    "top_genre = genre_counts.head(1).index.tolist()\n",
    "\n",
    "# Answer\n",
    "if len(top_artists) > 1:\n",
    "    print(f\"Answer:\\nThe most popular genres are: {', '.join(top_genre)}\")\n",
    "else:\n",
    "    print(f\"Answer:\\nThe most popular genre is {top_genre[0]}.\")"
   ]
  },
  {
   "cell_type": "markdown",
   "metadata": {},
   "source": [
    "## 6. Are there any songs in the dataset more than once?"
   ]
  },
  {
   "cell_type": "markdown",
   "metadata": {},
   "source": [
    "### Strategy\n",
    "- Check for the count of all unique songs in the 'title' column.\n",
    "- Check for duplicates.\n"
   ]
  },
  {
   "cell_type": "code",
   "execution_count": 693,
   "metadata": {},
   "outputs": [
    {
     "name": "stdout",
     "output_type": "stream",
     "text": [
      "Answer:\n",
      "19 songs appearing more than once:\n",
      "A Little Party Never Killed Nobody (All We Got): 2 appearances.\n",
      "All I Ask: 2 appearances.\n",
      "Kissing Strangers: 2 appearances.\n",
      "Written in the Stars (feat. Eric Turner): 2 appearances.\n",
      "The Hills: 2 appearances.\n",
      "Love Yourself: 2 appearances.\n",
      "We Are Never Ever Getting Back Together: 2 appearances.\n",
      "Sugar: 2 appearances.\n",
      "Say Something: 2 appearances.\n",
      "First Time: 2 appearances.\n",
      "Stitches: 2 appearances.\n",
      "I Like It: 2 appearances.\n",
      "Hello: 2 appearances.\n",
      "Castle Walls (feat. Christina Aguilera): 2 appearances.\n",
      "Company: 2 appearances.\n",
      "Runnin' (Lose It All): 2 appearances.\n",
      "Marry You: 2 appearances.\n",
      "Just the Way You Are: 2 appearances.\n",
      "Here: 2 appearances.\n"
     ]
    }
   ],
   "source": [
    "# Calculation\n",
    "song_counts = all_top_songs['title'].value_counts()\n",
    "duplicates = song_counts[song_counts > 1]\n",
    "\n",
    "# Answer\n",
    "print(f\"Answer:\\n{len(duplicates)} songs appearing more than once:\")\n",
    "for title, count in duplicates.items():\n",
    "    print(f\"{title}: {count} appearances.\")"
   ]
  },
  {
   "cell_type": "markdown",
   "metadata": {},
   "source": [
    "## 7. Is there a relationship between popularity and danceability?"
   ]
  },
  {
   "cell_type": "markdown",
   "metadata": {},
   "source": [
    "### Strategy:\n",
    "- Create a scatterplot.\n",
    "- Use a regression line.\n",
    "- Calculate the correlation coefficient.\n",
    "- Show the plot and coefficient."
   ]
  },
  {
   "cell_type": "code",
   "execution_count": 694,
   "metadata": {},
   "outputs": [
    {
     "data": {
      "image/png": "[encoded data removed]",
      "text/plain": [
       "<Figure size 640x480 with 1 Axes>"
      ]
     },
     "metadata": {},
     "output_type": "display_data"
    },
    {
     "name": "stdout",
     "output_type": "stream",
     "text": [
      "Answer:\n",
      "Popularity and Danceability have a very weak positive linear correlation of 0.12.\n",
      "This suggests that as one increases the other does slightly, but it is not strong \n",
      "enough to be a meaningful conclusion.\n"
     ]
    }
   ],
   "source": [
    "# Calculation\n",
    "sns.scatterplot(x='pop', y='dnce', data=all_top_songs, color='#77AA77')\n",
    "sns.regplot(x='pop', y='dnce', data=all_top_songs, color='#1E90FF', scatter=False)\n",
    "correlation = all_top_songs['pop'].corr(all_top_songs['dnce'])\n",
    "\n",
    "# Plot\n",
    "plt.title(\"Relationship between Popularity and Danceability\", fontsize=16)\n",
    "plt.xlabel('Popularity', fontsize=12)\n",
    "plt.ylabel('Danceability', fontsize=12)\n",
    "plt.show()\n",
    "\n",
    "#Answer\n",
    "print(f\"Answer:\\nPopularity and Danceability have a very weak positive linear correlation of {correlation:.2f}.\")\n",
    "print(\"This suggests that as one increases the other does slightly, but it is not strong \\nenough to be a meaningful conclusion.\")"
   ]
  }
 ],
 "metadata": {
  "kernelspec": {
   "display_name": "base",
   "language": "python",
   "name": "python3"
  },
  "language_info": {
   "codemirror_mode": {
    "name": "ipython",
    "version": 3
   },
   "file_extension": ".py",
   "mimetype": "text/x-python",
   "name": "python",
   "nbconvert_exporter": "python",
   "pygments_lexer": "ipython3",
   "version": "3.12.9"
  }
 },
 "nbformat": 4,
 "nbformat_minor": 2
}
