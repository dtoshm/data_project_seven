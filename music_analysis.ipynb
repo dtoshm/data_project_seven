{
 "cells": [
  {
   "cell_type": "markdown",
   "metadata": {},
   "source": [
    "# Music Analysis"
   ]
  },
  {
   "cell_type": "markdown",
   "metadata": {},
   "source": [
    "Import Pandas"
   ]
  },
  {
   "cell_type": "code",
   "execution_count": 16,
   "metadata": {},
   "outputs": [],
   "source": [
    "import pandas as pd"
   ]
  },
  {
   "cell_type": "markdown",
   "metadata": {},
   "source": [
    "## 1. Combine all of the CSV files into a single dataset using Pandas. It should be held in a variable called \"all_top_songs\"."
   ]
  },
  {
   "cell_type": "markdown",
   "metadata": {},
   "source": [
    "### Strategy\n",
    "- Import all 10 csv files\n",
    "- Concatenate them into a single csv file\n",
    "- Reset the index\n",
    "- Use a loop to avoid repetition"
   ]
  },
  {
   "cell_type": "code",
   "execution_count": 17,
   "metadata": {},
   "outputs": [],
   "source": [
    "all_top_songs = pd.concat([pd.read_csv(f\"data/{year}.csv\") for year in range(2010, 2020)], ignore_index=True)"
   ]
  },
  {
   "cell_type": "markdown",
   "metadata": {},
   "source": [
    "## 2. Clean the dataset to make sure the following columns are either integer or floats and not objects:\n",
    "- id\n",
    "- year\n",
    "- bpm\n",
    "- nrgy\n",
    "- dnce\n",
    "- db\n",
    "- live\n",
    "- val\n",
    "- dur\n",
    "- acous\n",
    "- spch\n",
    "- pop\n",
    "\n",
    "Note: Use Pandas, Matplotlib, and/or Seaborn to answer the questions below."
   ]
  },
  {
   "cell_type": "code",
   "execution_count": 18,
   "metadata": {},
   "outputs": [
    {
     "name": "stdout",
     "output_type": "stream",
     "text": [
      "<class 'pandas.core.frame.DataFrame'>\n",
      "RangeIndex: 603 entries, 0 to 602\n",
      "Data columns (total 15 columns):\n",
      " #   Column      Non-Null Count  Dtype \n",
      "---  ------      --------------  ----- \n",
      " 0   Unnamed: 0  603 non-null    int64 \n",
      " 1   title       603 non-null    object\n",
      " 2   artist      603 non-null    object\n",
      " 3   top genre   603 non-null    object\n",
      " 4   year        603 non-null    int64 \n",
      " 5   bpm         603 non-null    int64 \n",
      " 6   nrgy        603 non-null    int64 \n",
      " 7   dnce        603 non-null    int64 \n",
      " 8   dB          603 non-null    int64 \n",
      " 9   live        603 non-null    int64 \n",
      " 10  val         603 non-null    int64 \n",
      " 11  dur         603 non-null    int64 \n",
      " 12  acous       603 non-null    int64 \n",
      " 13  spch        603 non-null    int64 \n",
      " 14  pop         603 non-null    int64 \n",
      "dtypes: int64(12), object(3)\n",
      "memory usage: 70.8+ KB\n"
     ]
    }
   ],
   "source": [
    "all_top_songs.info()"
   ]
  }
 ],
 "metadata": {
  "kernelspec": {
   "display_name": "base",
   "language": "python",
   "name": "python3"
  },
  "language_info": {
   "codemirror_mode": {
    "name": "ipython",
    "version": 3
   },
   "file_extension": ".py",
   "mimetype": "text/x-python",
   "name": "python",
   "nbconvert_exporter": "python",
   "pygments_lexer": "ipython3",
   "version": "3.12.9"
  }
 },
 "nbformat": 4,
 "nbformat_minor": 2
}
